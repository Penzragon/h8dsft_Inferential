{
 "cells": [
  {
   "cell_type": "markdown",
   "metadata": {},
   "source": [
    "# Hacktiv8 Phase 0: Non Graded Challenge 12\n",
    "\n",
    "---\n",
    "\n",
    "By [Rifky Aliffa](https://github.com/Penzragon)\n",
    "\n",
    "Dataset yang digunakan adalah dataset Covid-19 Indonesia, yang dapat dilihat di [Kaggle](https://www.kaggle.com/hendratno/covid19-indonesia).\n",
    "\n",
    "Instructions:\n",
    "\n",
    "- Lakukan hypothesis testing terhadap dataset diatas.\n",
    "- Ambil kesimpulan dari hasil analisa."
   ]
  },
  {
   "cell_type": "markdown",
   "metadata": {},
   "source": [
    "## Import Library"
   ]
  },
  {
   "cell_type": "code",
   "execution_count": 1,
   "metadata": {},
   "outputs": [],
   "source": [
    "import pandas as pd\n",
    "import numpy as np\n",
    "from scipy import stats\n",
    "import matplotlib.pyplot as plt\n",
    "import seaborn as sns"
   ]
  },
  {
   "cell_type": "markdown",
   "metadata": {},
   "source": [
    "## Data Loading"
   ]
  },
  {
   "cell_type": "code",
   "execution_count": 2,
   "metadata": {},
   "outputs": [
    {
     "data": {
      "text/html": [
       "<div>\n",
       "<style scoped>\n",
       "    .dataframe tbody tr th:only-of-type {\n",
       "        vertical-align: middle;\n",
       "    }\n",
       "\n",
       "    .dataframe tbody tr th {\n",
       "        vertical-align: top;\n",
       "    }\n",
       "\n",
       "    .dataframe thead th {\n",
       "        text-align: right;\n",
       "    }\n",
       "</style>\n",
       "<table border=\"1\" class=\"dataframe\">\n",
       "  <thead>\n",
       "    <tr style=\"text-align: right;\">\n",
       "      <th></th>\n",
       "      <th>Date</th>\n",
       "      <th>Location ISO Code</th>\n",
       "      <th>Location</th>\n",
       "      <th>New Cases</th>\n",
       "      <th>New Deaths</th>\n",
       "      <th>New Recovered</th>\n",
       "      <th>New Active Cases</th>\n",
       "      <th>Total Cases</th>\n",
       "      <th>Total Deaths</th>\n",
       "      <th>Total Recovered</th>\n",
       "      <th>...</th>\n",
       "      <th>Latitude</th>\n",
       "      <th>New Cases per Million</th>\n",
       "      <th>Total Cases per Million</th>\n",
       "      <th>New Deaths per Million</th>\n",
       "      <th>Total Deaths per Million</th>\n",
       "      <th>Total Deaths per 100rb</th>\n",
       "      <th>Case Fatality Rate</th>\n",
       "      <th>Case Recovered Rate</th>\n",
       "      <th>Growth Factor of New Cases</th>\n",
       "      <th>Growth Factor of New Deaths</th>\n",
       "    </tr>\n",
       "  </thead>\n",
       "  <tbody>\n",
       "    <tr>\n",
       "      <th>0</th>\n",
       "      <td>3/1/2020</td>\n",
       "      <td>ID-JK</td>\n",
       "      <td>DKI Jakarta</td>\n",
       "      <td>2</td>\n",
       "      <td>0</td>\n",
       "      <td>0</td>\n",
       "      <td>2</td>\n",
       "      <td>39</td>\n",
       "      <td>20</td>\n",
       "      <td>41</td>\n",
       "      <td>...</td>\n",
       "      <td>-6.204699</td>\n",
       "      <td>0.18</td>\n",
       "      <td>3.60</td>\n",
       "      <td>0.0</td>\n",
       "      <td>1.84</td>\n",
       "      <td>0.18</td>\n",
       "      <td>51.28%</td>\n",
       "      <td>105.13%</td>\n",
       "      <td>NaN</td>\n",
       "      <td>NaN</td>\n",
       "    </tr>\n",
       "    <tr>\n",
       "      <th>1</th>\n",
       "      <td>3/2/2020</td>\n",
       "      <td>ID-JK</td>\n",
       "      <td>DKI Jakarta</td>\n",
       "      <td>2</td>\n",
       "      <td>0</td>\n",
       "      <td>0</td>\n",
       "      <td>2</td>\n",
       "      <td>41</td>\n",
       "      <td>20</td>\n",
       "      <td>41</td>\n",
       "      <td>...</td>\n",
       "      <td>-6.204699</td>\n",
       "      <td>0.18</td>\n",
       "      <td>3.78</td>\n",
       "      <td>0.0</td>\n",
       "      <td>1.84</td>\n",
       "      <td>0.18</td>\n",
       "      <td>48.78%</td>\n",
       "      <td>100.00%</td>\n",
       "      <td>1.0</td>\n",
       "      <td>1.0</td>\n",
       "    </tr>\n",
       "    <tr>\n",
       "      <th>2</th>\n",
       "      <td>3/2/2020</td>\n",
       "      <td>IDN</td>\n",
       "      <td>Indonesia</td>\n",
       "      <td>2</td>\n",
       "      <td>0</td>\n",
       "      <td>0</td>\n",
       "      <td>2</td>\n",
       "      <td>2</td>\n",
       "      <td>0</td>\n",
       "      <td>0</td>\n",
       "      <td>...</td>\n",
       "      <td>-0.789275</td>\n",
       "      <td>0.01</td>\n",
       "      <td>0.01</td>\n",
       "      <td>0.0</td>\n",
       "      <td>0.00</td>\n",
       "      <td>0.00</td>\n",
       "      <td>0.00%</td>\n",
       "      <td>0.00%</td>\n",
       "      <td>NaN</td>\n",
       "      <td>NaN</td>\n",
       "    </tr>\n",
       "    <tr>\n",
       "      <th>3</th>\n",
       "      <td>3/2/2020</td>\n",
       "      <td>ID-RI</td>\n",
       "      <td>Riau</td>\n",
       "      <td>1</td>\n",
       "      <td>0</td>\n",
       "      <td>0</td>\n",
       "      <td>1</td>\n",
       "      <td>2</td>\n",
       "      <td>0</td>\n",
       "      <td>3</td>\n",
       "      <td>...</td>\n",
       "      <td>0.511648</td>\n",
       "      <td>0.16</td>\n",
       "      <td>0.33</td>\n",
       "      <td>0.0</td>\n",
       "      <td>0.00</td>\n",
       "      <td>0.00</td>\n",
       "      <td>0.00%</td>\n",
       "      <td>150.00%</td>\n",
       "      <td>NaN</td>\n",
       "      <td>NaN</td>\n",
       "    </tr>\n",
       "    <tr>\n",
       "      <th>4</th>\n",
       "      <td>3/3/2020</td>\n",
       "      <td>ID-JK</td>\n",
       "      <td>DKI Jakarta</td>\n",
       "      <td>2</td>\n",
       "      <td>0</td>\n",
       "      <td>0</td>\n",
       "      <td>2</td>\n",
       "      <td>43</td>\n",
       "      <td>20</td>\n",
       "      <td>41</td>\n",
       "      <td>...</td>\n",
       "      <td>-6.204699</td>\n",
       "      <td>0.18</td>\n",
       "      <td>3.96</td>\n",
       "      <td>0.0</td>\n",
       "      <td>1.84</td>\n",
       "      <td>0.18</td>\n",
       "      <td>46.51%</td>\n",
       "      <td>95.35%</td>\n",
       "      <td>1.0</td>\n",
       "      <td>1.0</td>\n",
       "    </tr>\n",
       "  </tbody>\n",
       "</table>\n",
       "<p>5 rows × 38 columns</p>\n",
       "</div>"
      ],
      "text/plain": [
       "       Date Location ISO Code     Location  New Cases  New Deaths  \\\n",
       "0  3/1/2020             ID-JK  DKI Jakarta          2           0   \n",
       "1  3/2/2020             ID-JK  DKI Jakarta          2           0   \n",
       "2  3/2/2020               IDN    Indonesia          2           0   \n",
       "3  3/2/2020             ID-RI         Riau          1           0   \n",
       "4  3/3/2020             ID-JK  DKI Jakarta          2           0   \n",
       "\n",
       "   New Recovered  New Active Cases  Total Cases  Total Deaths  \\\n",
       "0              0                 2           39            20   \n",
       "1              0                 2           41            20   \n",
       "2              0                 2            2             0   \n",
       "3              0                 1            2             0   \n",
       "4              0                 2           43            20   \n",
       "\n",
       "   Total Recovered  ...  Latitude New Cases per Million  \\\n",
       "0               41  ... -6.204699                  0.18   \n",
       "1               41  ... -6.204699                  0.18   \n",
       "2                0  ... -0.789275                  0.01   \n",
       "3                3  ...  0.511648                  0.16   \n",
       "4               41  ... -6.204699                  0.18   \n",
       "\n",
       "   Total Cases per Million New Deaths per Million Total Deaths per Million  \\\n",
       "0                     3.60                    0.0                     1.84   \n",
       "1                     3.78                    0.0                     1.84   \n",
       "2                     0.01                    0.0                     0.00   \n",
       "3                     0.33                    0.0                     0.00   \n",
       "4                     3.96                    0.0                     1.84   \n",
       "\n",
       "  Total Deaths per 100rb Case Fatality Rate Case Recovered Rate  \\\n",
       "0                   0.18             51.28%             105.13%   \n",
       "1                   0.18             48.78%             100.00%   \n",
       "2                   0.00              0.00%               0.00%   \n",
       "3                   0.00              0.00%             150.00%   \n",
       "4                   0.18             46.51%              95.35%   \n",
       "\n",
       "  Growth Factor of New Cases  Growth Factor of New Deaths  \n",
       "0                        NaN                          NaN  \n",
       "1                        1.0                          1.0  \n",
       "2                        NaN                          NaN  \n",
       "3                        NaN                          NaN  \n",
       "4                        1.0                          1.0  \n",
       "\n",
       "[5 rows x 38 columns]"
      ]
     },
     "execution_count": 2,
     "metadata": {},
     "output_type": "execute_result"
    }
   ],
   "source": [
    "covid = pd.read_csv('covid_19_indonesia_time_series_all.csv')\n",
    "covid.head()"
   ]
  },
  {
   "cell_type": "code",
   "execution_count": 3,
   "metadata": {},
   "outputs": [],
   "source": [
    "covid['Date'] = pd.to_datetime(covid['Date'])"
   ]
  },
  {
   "cell_type": "markdown",
   "metadata": {},
   "source": [
    "### Data Characteristics"
   ]
  },
  {
   "cell_type": "code",
   "execution_count": 4,
   "metadata": {},
   "outputs": [
    {
     "name": "stdout",
     "output_type": "stream",
     "text": [
      "<class 'pandas.core.frame.DataFrame'>\n",
      "RangeIndex: 21759 entries, 0 to 21758\n",
      "Data columns (total 38 columns):\n",
      " #   Column                       Non-Null Count  Dtype         \n",
      "---  ------                       --------------  -----         \n",
      " 0   Date                         21759 non-null  datetime64[ns]\n",
      " 1   Location ISO Code            21759 non-null  object        \n",
      " 2   Location                     21759 non-null  object        \n",
      " 3   New Cases                    21759 non-null  int64         \n",
      " 4   New Deaths                   21759 non-null  int64         \n",
      " 5   New Recovered                21759 non-null  int64         \n",
      " 6   New Active Cases             21759 non-null  int64         \n",
      " 7   Total Cases                  21759 non-null  int64         \n",
      " 8   Total Deaths                 21759 non-null  int64         \n",
      " 9   Total Recovered              21759 non-null  int64         \n",
      " 10  Total Active Cases           21759 non-null  int64         \n",
      " 11  Location Level               21759 non-null  object        \n",
      " 12  City or Regency              0 non-null      float64       \n",
      " 13  Province                     21117 non-null  object        \n",
      " 14  Country                      21759 non-null  object        \n",
      " 15  Continent                    21759 non-null  object        \n",
      " 16  Island                       21117 non-null  object        \n",
      " 17  Time Zone                    21117 non-null  object        \n",
      " 18  Special Status               3123 non-null   object        \n",
      " 19  Total Regencies              21759 non-null  int64         \n",
      " 20  Total Cities                 21145 non-null  float64       \n",
      " 21  Total Districts              21759 non-null  int64         \n",
      " 22  Total Urban Villages         21142 non-null  float64       \n",
      " 23  Total Rural Villages         21117 non-null  float64       \n",
      " 24  Area (km2)                   21759 non-null  int64         \n",
      " 25  Population                   21759 non-null  int64         \n",
      " 26  Population Density           21759 non-null  float64       \n",
      " 27  Longitude                    21759 non-null  float64       \n",
      " 28  Latitude                     21759 non-null  float64       \n",
      " 29  New Cases per Million        21759 non-null  float64       \n",
      " 30  Total Cases per Million      21759 non-null  float64       \n",
      " 31  New Deaths per Million       21759 non-null  float64       \n",
      " 32  Total Deaths per Million     21759 non-null  float64       \n",
      " 33  Total Deaths per 100rb       21759 non-null  float64       \n",
      " 34  Case Fatality Rate           21759 non-null  object        \n",
      " 35  Case Recovered Rate          21759 non-null  object        \n",
      " 36  Growth Factor of New Cases   20572 non-null  float64       \n",
      " 37  Growth Factor of New Deaths  19292 non-null  float64       \n",
      "dtypes: datetime64[ns](1), float64(14), int64(12), object(11)\n",
      "memory usage: 6.3+ MB\n"
     ]
    }
   ],
   "source": [
    "covid.info()"
   ]
  },
  {
   "cell_type": "code",
   "execution_count": 5,
   "metadata": {},
   "outputs": [
    {
     "data": {
      "text/html": [
       "<div>\n",
       "<style scoped>\n",
       "    .dataframe tbody tr th:only-of-type {\n",
       "        vertical-align: middle;\n",
       "    }\n",
       "\n",
       "    .dataframe tbody tr th {\n",
       "        vertical-align: top;\n",
       "    }\n",
       "\n",
       "    .dataframe thead th {\n",
       "        text-align: right;\n",
       "    }\n",
       "</style>\n",
       "<table border=\"1\" class=\"dataframe\">\n",
       "  <thead>\n",
       "    <tr style=\"text-align: right;\">\n",
       "      <th></th>\n",
       "      <th>count</th>\n",
       "      <th>mean</th>\n",
       "      <th>std</th>\n",
       "      <th>min</th>\n",
       "      <th>25%</th>\n",
       "      <th>50%</th>\n",
       "      <th>75%</th>\n",
       "      <th>max</th>\n",
       "    </tr>\n",
       "  </thead>\n",
       "  <tbody>\n",
       "    <tr>\n",
       "      <th>New Cases</th>\n",
       "      <td>21759.0</td>\n",
       "      <td>3.912936e+02</td>\n",
       "      <td>2.074551e+03</td>\n",
       "      <td>0.000000</td>\n",
       "      <td>7.000000e+00</td>\n",
       "      <td>4.100000e+01</td>\n",
       "      <td>1.510000e+02</td>\n",
       "      <td>5.675700e+04</td>\n",
       "    </tr>\n",
       "    <tr>\n",
       "      <th>New Deaths</th>\n",
       "      <td>21759.0</td>\n",
       "      <td>1.322041e+01</td>\n",
       "      <td>7.648262e+01</td>\n",
       "      <td>0.000000</td>\n",
       "      <td>0.000000e+00</td>\n",
       "      <td>1.000000e+00</td>\n",
       "      <td>5.000000e+00</td>\n",
       "      <td>2.069000e+03</td>\n",
       "    </tr>\n",
       "    <tr>\n",
       "      <th>New Recovered</th>\n",
       "      <td>21759.0</td>\n",
       "      <td>3.773110e+02</td>\n",
       "      <td>1.999063e+03</td>\n",
       "      <td>0.000000</td>\n",
       "      <td>4.000000e+00</td>\n",
       "      <td>3.100000e+01</td>\n",
       "      <td>1.430000e+02</td>\n",
       "      <td>4.883200e+04</td>\n",
       "    </tr>\n",
       "    <tr>\n",
       "      <th>New Active Cases</th>\n",
       "      <td>21759.0</td>\n",
       "      <td>7.621674e-01</td>\n",
       "      <td>9.372135e+02</td>\n",
       "      <td>-25725.000000</td>\n",
       "      <td>-1.600000e+01</td>\n",
       "      <td>0.000000e+00</td>\n",
       "      <td>2.700000e+01</td>\n",
       "      <td>3.672600e+04</td>\n",
       "    </tr>\n",
       "    <tr>\n",
       "      <th>Total Cases</th>\n",
       "      <td>21759.0</td>\n",
       "      <td>8.525997e+04</td>\n",
       "      <td>3.685133e+05</td>\n",
       "      <td>1.000000</td>\n",
       "      <td>1.822500e+03</td>\n",
       "      <td>1.078000e+04</td>\n",
       "      <td>3.646450e+04</td>\n",
       "      <td>4.257243e+06</td>\n",
       "    </tr>\n",
       "    <tr>\n",
       "      <th>Total Deaths</th>\n",
       "      <td>21759.0</td>\n",
       "      <td>2.648289e+03</td>\n",
       "      <td>1.177601e+04</td>\n",
       "      <td>0.000000</td>\n",
       "      <td>5.000000e+01</td>\n",
       "      <td>2.830000e+02</td>\n",
       "      <td>1.050000e+03</td>\n",
       "      <td>1.438580e+05</td>\n",
       "    </tr>\n",
       "    <tr>\n",
       "      <th>Total Recovered</th>\n",
       "      <td>21759.0</td>\n",
       "      <td>7.671260e+04</td>\n",
       "      <td>3.403957e+05</td>\n",
       "      <td>0.000000</td>\n",
       "      <td>1.038500e+03</td>\n",
       "      <td>8.745000e+03</td>\n",
       "      <td>3.293250e+04</td>\n",
       "      <td>4.105680e+06</td>\n",
       "    </tr>\n",
       "    <tr>\n",
       "      <th>Total Active Cases</th>\n",
       "      <td>21759.0</td>\n",
       "      <td>5.899079e+03</td>\n",
       "      <td>2.751810e+04</td>\n",
       "      <td>-2306.000000</td>\n",
       "      <td>1.820000e+02</td>\n",
       "      <td>9.190000e+02</td>\n",
       "      <td>2.607500e+03</td>\n",
       "      <td>5.741350e+05</td>\n",
       "    </tr>\n",
       "    <tr>\n",
       "      <th>City or Regency</th>\n",
       "      <td>0.0</td>\n",
       "      <td>NaN</td>\n",
       "      <td>NaN</td>\n",
       "      <td>NaN</td>\n",
       "      <td>NaN</td>\n",
       "      <td>NaN</td>\n",
       "      <td>NaN</td>\n",
       "      <td>NaN</td>\n",
       "    </tr>\n",
       "    <tr>\n",
       "      <th>Total Regencies</th>\n",
       "      <td>21759.0</td>\n",
       "      <td>2.416026e+01</td>\n",
       "      <td>6.870827e+01</td>\n",
       "      <td>1.000000</td>\n",
       "      <td>7.000000e+00</td>\n",
       "      <td>1.100000e+01</td>\n",
       "      <td>1.800000e+01</td>\n",
       "      <td>4.160000e+02</td>\n",
       "    </tr>\n",
       "    <tr>\n",
       "      <th>Total Cities</th>\n",
       "      <td>21145.0</td>\n",
       "      <td>5.872499e+00</td>\n",
       "      <td>1.647141e+01</td>\n",
       "      <td>1.000000</td>\n",
       "      <td>1.000000e+00</td>\n",
       "      <td>2.000000e+00</td>\n",
       "      <td>4.000000e+00</td>\n",
       "      <td>9.800000e+01</td>\n",
       "    </tr>\n",
       "    <tr>\n",
       "      <th>Total Districts</th>\n",
       "      <td>21759.0</td>\n",
       "      <td>4.204444e+02</td>\n",
       "      <td>1.199019e+03</td>\n",
       "      <td>44.000000</td>\n",
       "      <td>1.030000e+02</td>\n",
       "      <td>1.690000e+02</td>\n",
       "      <td>2.890000e+02</td>\n",
       "      <td>7.230000e+03</td>\n",
       "    </tr>\n",
       "    <tr>\n",
       "      <th>Total Urban Villages</th>\n",
       "      <td>21142.0</td>\n",
       "      <td>5.087405e+02</td>\n",
       "      <td>1.429128e+03</td>\n",
       "      <td>35.000000</td>\n",
       "      <td>9.900000e+01</td>\n",
       "      <td>1.750000e+02</td>\n",
       "      <td>3.320000e+02</td>\n",
       "      <td>8.488000e+03</td>\n",
       "    </tr>\n",
       "    <tr>\n",
       "      <th>Total Rural Villages</th>\n",
       "      <td>21117.0</td>\n",
       "      <td>4.490348e+03</td>\n",
       "      <td>1.264756e+04</td>\n",
       "      <td>275.000000</td>\n",
       "      <td>9.280000e+02</td>\n",
       "      <td>1.591000e+03</td>\n",
       "      <td>2.853000e+03</td>\n",
       "      <td>7.495300e+04</td>\n",
       "    </tr>\n",
       "    <tr>\n",
       "      <th>Area (km2)</th>\n",
       "      <td>21759.0</td>\n",
       "      <td>1.112418e+05</td>\n",
       "      <td>3.203746e+05</td>\n",
       "      <td>664.000000</td>\n",
       "      <td>1.678700e+04</td>\n",
       "      <td>4.201300e+04</td>\n",
       "      <td>7.546800e+04</td>\n",
       "      <td>1.916907e+06</td>\n",
       "    </tr>\n",
       "    <tr>\n",
       "      <th>Population</th>\n",
       "      <td>21759.0</td>\n",
       "      <td>1.547817e+07</td>\n",
       "      <td>4.483574e+07</td>\n",
       "      <td>648407.000000</td>\n",
       "      <td>1.999539e+06</td>\n",
       "      <td>4.216171e+06</td>\n",
       "      <td>9.095591e+06</td>\n",
       "      <td>2.651855e+08</td>\n",
       "    </tr>\n",
       "    <tr>\n",
       "      <th>Population Density</th>\n",
       "      <td>21759.0</td>\n",
       "      <td>7.449898e+02</td>\n",
       "      <td>2.743210e+03</td>\n",
       "      <td>8.590000</td>\n",
       "      <td>4.779000e+01</td>\n",
       "      <td>1.038400e+02</td>\n",
       "      <td>2.627000e+02</td>\n",
       "      <td>1.633431e+04</td>\n",
       "    </tr>\n",
       "    <tr>\n",
       "      <th>Longitude</th>\n",
       "      <td>21759.0</td>\n",
       "      <td>1.136808e+02</td>\n",
       "      <td>9.857587e+00</td>\n",
       "      <td>96.910522</td>\n",
       "      <td>1.061090e+02</td>\n",
       "      <td>1.134177e+02</td>\n",
       "      <td>1.212011e+02</td>\n",
       "      <td>1.386960e+02</td>\n",
       "    </tr>\n",
       "    <tr>\n",
       "      <th>Latitude</th>\n",
       "      <td>21759.0</td>\n",
       "      <td>-2.731868e+00</td>\n",
       "      <td>3.608264e+00</td>\n",
       "      <td>-8.682205</td>\n",
       "      <td>-6.204699e+00</td>\n",
       "      <td>-2.461746e+00</td>\n",
       "      <td>2.120369e-01</td>\n",
       "      <td>4.225615e+00</td>\n",
       "    </tr>\n",
       "    <tr>\n",
       "      <th>New Cases per Million</th>\n",
       "      <td>21759.0</td>\n",
       "      <td>2.939303e+01</td>\n",
       "      <td>6.994109e+01</td>\n",
       "      <td>0.000000</td>\n",
       "      <td>1.750000e+00</td>\n",
       "      <td>8.160000e+00</td>\n",
       "      <td>2.626000e+01</td>\n",
       "      <td>1.348130e+03</td>\n",
       "    </tr>\n",
       "    <tr>\n",
       "      <th>Total Cases per Million</th>\n",
       "      <td>21759.0</td>\n",
       "      <td>6.183651e+03</td>\n",
       "      <td>1.028812e+04</td>\n",
       "      <td>0.010000</td>\n",
       "      <td>4.159150e+02</td>\n",
       "      <td>2.727460e+03</td>\n",
       "      <td>7.374120e+03</td>\n",
       "      <td>7.966379e+04</td>\n",
       "    </tr>\n",
       "    <tr>\n",
       "      <th>New Deaths per Million</th>\n",
       "      <td>21759.0</td>\n",
       "      <td>8.527267e-01</td>\n",
       "      <td>2.277310e+00</td>\n",
       "      <td>0.000000</td>\n",
       "      <td>0.000000e+00</td>\n",
       "      <td>1.800000e-01</td>\n",
       "      <td>7.500000e-01</td>\n",
       "      <td>6.380000e+01</td>\n",
       "    </tr>\n",
       "    <tr>\n",
       "      <th>Total Deaths per Million</th>\n",
       "      <td>21759.0</td>\n",
       "      <td>1.635422e+02</td>\n",
       "      <td>2.541958e+02</td>\n",
       "      <td>0.000000</td>\n",
       "      <td>1.088000e+01</td>\n",
       "      <td>7.355000e+01</td>\n",
       "      <td>1.958500e+02</td>\n",
       "      <td>1.533980e+03</td>\n",
       "    </tr>\n",
       "    <tr>\n",
       "      <th>Total Deaths per 100rb</th>\n",
       "      <td>21759.0</td>\n",
       "      <td>1.635419e+01</td>\n",
       "      <td>2.541960e+01</td>\n",
       "      <td>0.000000</td>\n",
       "      <td>1.090000e+00</td>\n",
       "      <td>7.350000e+00</td>\n",
       "      <td>1.958500e+01</td>\n",
       "      <td>1.534000e+02</td>\n",
       "    </tr>\n",
       "    <tr>\n",
       "      <th>Growth Factor of New Cases</th>\n",
       "      <td>20572.0</td>\n",
       "      <td>1.395671e+00</td>\n",
       "      <td>3.080207e+00</td>\n",
       "      <td>0.000000</td>\n",
       "      <td>6.500000e-01</td>\n",
       "      <td>9.900000e-01</td>\n",
       "      <td>1.330000e+00</td>\n",
       "      <td>1.750000e+02</td>\n",
       "    </tr>\n",
       "    <tr>\n",
       "      <th>Growth Factor of New Deaths</th>\n",
       "      <td>19292.0</td>\n",
       "      <td>1.074145e+00</td>\n",
       "      <td>1.578502e+00</td>\n",
       "      <td>0.000000</td>\n",
       "      <td>6.600000e-01</td>\n",
       "      <td>1.000000e+00</td>\n",
       "      <td>1.000000e+00</td>\n",
       "      <td>1.345000e+02</td>\n",
       "    </tr>\n",
       "  </tbody>\n",
       "</table>\n",
       "</div>"
      ],
      "text/plain": [
       "                               count          mean           std  \\\n",
       "New Cases                    21759.0  3.912936e+02  2.074551e+03   \n",
       "New Deaths                   21759.0  1.322041e+01  7.648262e+01   \n",
       "New Recovered                21759.0  3.773110e+02  1.999063e+03   \n",
       "New Active Cases             21759.0  7.621674e-01  9.372135e+02   \n",
       "Total Cases                  21759.0  8.525997e+04  3.685133e+05   \n",
       "Total Deaths                 21759.0  2.648289e+03  1.177601e+04   \n",
       "Total Recovered              21759.0  7.671260e+04  3.403957e+05   \n",
       "Total Active Cases           21759.0  5.899079e+03  2.751810e+04   \n",
       "City or Regency                  0.0           NaN           NaN   \n",
       "Total Regencies              21759.0  2.416026e+01  6.870827e+01   \n",
       "Total Cities                 21145.0  5.872499e+00  1.647141e+01   \n",
       "Total Districts              21759.0  4.204444e+02  1.199019e+03   \n",
       "Total Urban Villages         21142.0  5.087405e+02  1.429128e+03   \n",
       "Total Rural Villages         21117.0  4.490348e+03  1.264756e+04   \n",
       "Area (km2)                   21759.0  1.112418e+05  3.203746e+05   \n",
       "Population                   21759.0  1.547817e+07  4.483574e+07   \n",
       "Population Density           21759.0  7.449898e+02  2.743210e+03   \n",
       "Longitude                    21759.0  1.136808e+02  9.857587e+00   \n",
       "Latitude                     21759.0 -2.731868e+00  3.608264e+00   \n",
       "New Cases per Million        21759.0  2.939303e+01  6.994109e+01   \n",
       "Total Cases per Million      21759.0  6.183651e+03  1.028812e+04   \n",
       "New Deaths per Million       21759.0  8.527267e-01  2.277310e+00   \n",
       "Total Deaths per Million     21759.0  1.635422e+02  2.541958e+02   \n",
       "Total Deaths per 100rb       21759.0  1.635419e+01  2.541960e+01   \n",
       "Growth Factor of New Cases   20572.0  1.395671e+00  3.080207e+00   \n",
       "Growth Factor of New Deaths  19292.0  1.074145e+00  1.578502e+00   \n",
       "\n",
       "                                       min           25%           50%  \\\n",
       "New Cases                         0.000000  7.000000e+00  4.100000e+01   \n",
       "New Deaths                        0.000000  0.000000e+00  1.000000e+00   \n",
       "New Recovered                     0.000000  4.000000e+00  3.100000e+01   \n",
       "New Active Cases             -25725.000000 -1.600000e+01  0.000000e+00   \n",
       "Total Cases                       1.000000  1.822500e+03  1.078000e+04   \n",
       "Total Deaths                      0.000000  5.000000e+01  2.830000e+02   \n",
       "Total Recovered                   0.000000  1.038500e+03  8.745000e+03   \n",
       "Total Active Cases            -2306.000000  1.820000e+02  9.190000e+02   \n",
       "City or Regency                        NaN           NaN           NaN   \n",
       "Total Regencies                   1.000000  7.000000e+00  1.100000e+01   \n",
       "Total Cities                      1.000000  1.000000e+00  2.000000e+00   \n",
       "Total Districts                  44.000000  1.030000e+02  1.690000e+02   \n",
       "Total Urban Villages             35.000000  9.900000e+01  1.750000e+02   \n",
       "Total Rural Villages            275.000000  9.280000e+02  1.591000e+03   \n",
       "Area (km2)                      664.000000  1.678700e+04  4.201300e+04   \n",
       "Population                   648407.000000  1.999539e+06  4.216171e+06   \n",
       "Population Density                8.590000  4.779000e+01  1.038400e+02   \n",
       "Longitude                        96.910522  1.061090e+02  1.134177e+02   \n",
       "Latitude                         -8.682205 -6.204699e+00 -2.461746e+00   \n",
       "New Cases per Million             0.000000  1.750000e+00  8.160000e+00   \n",
       "Total Cases per Million           0.010000  4.159150e+02  2.727460e+03   \n",
       "New Deaths per Million            0.000000  0.000000e+00  1.800000e-01   \n",
       "Total Deaths per Million          0.000000  1.088000e+01  7.355000e+01   \n",
       "Total Deaths per 100rb            0.000000  1.090000e+00  7.350000e+00   \n",
       "Growth Factor of New Cases        0.000000  6.500000e-01  9.900000e-01   \n",
       "Growth Factor of New Deaths       0.000000  6.600000e-01  1.000000e+00   \n",
       "\n",
       "                                      75%           max  \n",
       "New Cases                    1.510000e+02  5.675700e+04  \n",
       "New Deaths                   5.000000e+00  2.069000e+03  \n",
       "New Recovered                1.430000e+02  4.883200e+04  \n",
       "New Active Cases             2.700000e+01  3.672600e+04  \n",
       "Total Cases                  3.646450e+04  4.257243e+06  \n",
       "Total Deaths                 1.050000e+03  1.438580e+05  \n",
       "Total Recovered              3.293250e+04  4.105680e+06  \n",
       "Total Active Cases           2.607500e+03  5.741350e+05  \n",
       "City or Regency                       NaN           NaN  \n",
       "Total Regencies              1.800000e+01  4.160000e+02  \n",
       "Total Cities                 4.000000e+00  9.800000e+01  \n",
       "Total Districts              2.890000e+02  7.230000e+03  \n",
       "Total Urban Villages         3.320000e+02  8.488000e+03  \n",
       "Total Rural Villages         2.853000e+03  7.495300e+04  \n",
       "Area (km2)                   7.546800e+04  1.916907e+06  \n",
       "Population                   9.095591e+06  2.651855e+08  \n",
       "Population Density           2.627000e+02  1.633431e+04  \n",
       "Longitude                    1.212011e+02  1.386960e+02  \n",
       "Latitude                     2.120369e-01  4.225615e+00  \n",
       "New Cases per Million        2.626000e+01  1.348130e+03  \n",
       "Total Cases per Million      7.374120e+03  7.966379e+04  \n",
       "New Deaths per Million       7.500000e-01  6.380000e+01  \n",
       "Total Deaths per Million     1.958500e+02  1.533980e+03  \n",
       "Total Deaths per 100rb       1.958500e+01  1.534000e+02  \n",
       "Growth Factor of New Cases   1.330000e+00  1.750000e+02  \n",
       "Growth Factor of New Deaths  1.000000e+00  1.345000e+02  "
      ]
     },
     "execution_count": 5,
     "metadata": {},
     "output_type": "execute_result"
    }
   ],
   "source": [
    "covid.describe().T"
   ]
  },
  {
   "cell_type": "markdown",
   "metadata": {},
   "source": [
    "## Data Exploration"
   ]
  },
  {
   "cell_type": "code",
   "execution_count": 6,
   "metadata": {},
   "outputs": [
    {
     "data": {
      "text/plain": [
       "<AxesSubplot:xlabel='New Active Cases', ylabel='Count'>"
      ]
     },
     "execution_count": 6,
     "metadata": {},
     "output_type": "execute_result"
    },
    {
     "data": {
      "image/png": "[encoded data removed]",
      "text/plain": [
       "<Figure size 432x288 with 1 Axes>"
      ]
     },
     "metadata": {
      "needs_background": "light"
     },
     "output_type": "display_data"
    }
   ],
   "source": [
    "sns.histplot(data=covid, x='New Active Cases')"
   ]
  },
  {
   "cell_type": "code",
   "execution_count": 7,
   "metadata": {},
   "outputs": [
    {
     "data": {
      "text/plain": [
       "<AxesSubplot:xlabel='New Active Cases'>"
      ]
     },
     "execution_count": 7,
     "metadata": {},
     "output_type": "execute_result"
    },
    {
     "data": {
      "image/png": "[encoded data removed]",
      "text/plain": [
       "<Figure size 432x288 with 1 Axes>"
      ]
     },
     "metadata": {
      "needs_background": "light"
     },
     "output_type": "display_data"
    }
   ],
   "source": [
    "sns.boxplot(data=covid, x='New Active Cases')"
   ]
  },
  {
   "cell_type": "markdown",
   "metadata": {},
   "source": [
    "### Outlier Removal"
   ]
  },
  {
   "cell_type": "code",
   "execution_count": 8,
   "metadata": {},
   "outputs": [],
   "source": [
    "Q1 = np.quantile(covid['New Active Cases'], 0.25)\n",
    "Q3 = np.quantile(covid['New Active Cases'], 0.75)\n",
    "IQR = Q3 - Q1"
   ]
  },
  {
   "cell_type": "code",
   "execution_count": 9,
   "metadata": {},
   "outputs": [],
   "source": [
    "lower_limit = Q1 - (1.5 * IQR)\n",
    "upper_limit = Q3 + (1.5 * IQR)"
   ]
  },
  {
   "cell_type": "code",
   "execution_count": 10,
   "metadata": {},
   "outputs": [],
   "source": [
    "covid = covid[(covid['New Active Cases'] > lower_limit) & (covid['New Active Cases'] < upper_limit)]"
   ]
  },
  {
   "cell_type": "code",
   "execution_count": 11,
   "metadata": {},
   "outputs": [
    {
     "data": {
      "text/plain": [
       "<AxesSubplot:xlabel='New Active Cases', ylabel='Count'>"
      ]
     },
     "execution_count": 11,
     "metadata": {},
     "output_type": "execute_result"
    },
    {
     "data": {
      "image/png": "[encoded data removed]",
      "text/plain": [
       "<Figure size 432x288 with 1 Axes>"
      ]
     },
     "metadata": {
      "needs_background": "light"
     },
     "output_type": "display_data"
    }
   ],
   "source": [
    "sns.histplot(data=covid, x='New Active Cases', kde=True)"
   ]
  },
  {
   "cell_type": "code",
   "execution_count": 12,
   "metadata": {},
   "outputs": [
    {
     "data": {
      "text/plain": [
       "<AxesSubplot:xlabel='New Active Cases'>"
      ]
     },
     "execution_count": 12,
     "metadata": {},
     "output_type": "execute_result"
    },
    {
     "data": {
      "image/png": "[encoded data removed]",
      "text/plain": [
       "<Figure size 432x288 with 1 Axes>"
      ]
     },
     "metadata": {
      "needs_background": "light"
     },
     "output_type": "display_data"
    }
   ],
   "source": [
    "sns.boxplot(data=covid, x='New Active Cases')"
   ]
  },
  {
   "cell_type": "markdown",
   "metadata": {},
   "source": [
    "### Hypothesis Testing"
   ]
  },
  {
   "cell_type": "code",
   "execution_count": 13,
   "metadata": {},
   "outputs": [],
   "source": [
    "jabar = covid[covid['Location'] == 'Jawa Barat']"
   ]
  },
  {
   "cell_type": "code",
   "execution_count": 14,
   "metadata": {},
   "outputs": [],
   "source": [
    "jabar_2020 = jabar[jabar['Date'].dt.year == 2020]"
   ]
  },
  {
   "cell_type": "code",
   "execution_count": 15,
   "metadata": {},
   "outputs": [
    {
     "data": {
      "text/plain": [
       "<AxesSubplot:xlabel='New Active Cases', ylabel='Count'>"
      ]
     },
     "execution_count": 15,
     "metadata": {},
     "output_type": "execute_result"
    },
    {
     "data": {
      "image/png": "[encoded data removed]",
      "text/plain": [
       "<Figure size 432x288 with 1 Axes>"
      ]
     },
     "metadata": {
      "needs_background": "light"
     },
     "output_type": "display_data"
    }
   ],
   "source": [
    "sns.histplot(data=jabar_2020, x='New Active Cases')"
   ]
  },
  {
   "cell_type": "code",
   "execution_count": 16,
   "metadata": {},
   "outputs": [],
   "source": [
    "jabar_2021 = jabar[jabar['Date'].dt.year == 2021]"
   ]
  },
  {
   "cell_type": "code",
   "execution_count": 17,
   "metadata": {},
   "outputs": [
    {
     "data": {
      "text/plain": [
       "<AxesSubplot:xlabel='New Active Cases', ylabel='Count'>"
      ]
     },
     "execution_count": 17,
     "metadata": {},
     "output_type": "execute_result"
    },
    {
     "data": {
      "image/png": "[encoded data removed]",
      "text/plain": [
       "<Figure size 432x288 with 1 Axes>"
      ]
     },
     "metadata": {
      "needs_background": "light"
     },
     "output_type": "display_data"
    }
   ],
   "source": [
    "sns.histplot(data=jabar_2021, x='New Active Cases')"
   ]
  },
  {
   "cell_type": "markdown",
   "metadata": {},
   "source": [
    "#### One Sample T-test (One-Tailed)"
   ]
  },
  {
   "cell_type": "markdown",
   "metadata": {},
   "source": [
    "Hipotesis: **Rata-rata jumlah kasus aktif baru tahun 2020 di Jawa Barat itu kurang dari 10 kasus aktif baru**.\n",
    "\n",
    "Jadi:\n",
    "- **H0: μ2020 >= 10** (Rata-rata kasus aktif baru tahun 2020 lebih besar atau sama dengan 10 kasus.)\n",
    "- **H1: μ2020 < 10** (Rata-rata kasus aktif baru tahun 2020 lebih kecil dari 10 kasus.)"
   ]
  },
  {
   "cell_type": "code",
   "execution_count": 19,
   "metadata": {},
   "outputs": [
    {
     "name": "stdout",
     "output_type": "stream",
     "text": [
      "P-value: 0.36822387793710465\n",
      "T-stat: 0.337052030075123\n"
     ]
    }
   ],
   "source": [
    "tstat, pval = stats.ttest_1samp(jabar_2020['New Active Cases'], 10)\n",
    "print(f'P-value: {pval/2}')\n",
    "print(f'T-stat: {tstat}')"
   ]
  },
  {
   "cell_type": "markdown",
   "metadata": {},
   "source": [
    "Dari hasil hypothesis testing ini, karena p-value lebih besar dari significant threshold maka H0 **diterima** dan **H1 ditolak** dimana rata-rata kasus aktif baru tahun 2020 leibh besar atau sama dengan 10 kasus."
   ]
  },
  {
   "cell_type": "markdown",
   "metadata": {},
   "source": [
    "#### One Sample T-test (Two-Tailed)"
   ]
  },
  {
   "cell_type": "markdown",
   "metadata": {},
   "source": [
    "Hipotesis: **Rata-rata kasus aktif baru tahun 2021 di Jawa Barat adalah 15 kasus**.\n",
    "\n",
    "Jadi:\n",
    "- **H0: μ2020 = 15** (Rata-rata kasus aktif baru tahun 2021 sama dengan 15 kasus)\n",
    "- **H1: μ2020 != 15** (Rata-rata kasus aktif baru tahun 2020 tidak sama dengan 15 kasus)"
   ]
  },
  {
   "cell_type": "code",
   "execution_count": 26,
   "metadata": {},
   "outputs": [
    {
     "name": "stdout",
     "output_type": "stream",
     "text": [
      "P-value: 0.034655345307600914\n",
      "T-stat: -2.150477571584096\n"
     ]
    }
   ],
   "source": [
    "tstat, pval = stats.ttest_1samp(jabar_2021['New Active Cases'], 15)\n",
    "print(f'P-value: {pval}')\n",
    "print(f'T-stat: {tstat}')"
   ]
  },
  {
   "cell_type": "code",
   "execution_count": 27,
   "metadata": {},
   "outputs": [
    {
     "name": "stdout",
     "output_type": "stream",
     "text": [
      "Menolak Null Hypothesis (H0), menerima Alternative Hypothesis (H1).\n"
     ]
    }
   ],
   "source": [
    "if pval <= 0.05:\n",
    "    print(\"Menolak Null Hypothesis (H0), menerima Alternative Hypothesis (H1).\")\n",
    "elif pval > 0.05:\n",
    "    print(\"Menerima Null Hypothesis (H0), menolak Alternative Hypothesis (H1).\")"
   ]
  },
  {
   "cell_type": "markdown",
   "metadata": {},
   "source": [
    "Dari hasil hypothesis testing ini, karena p-value lebih kecil dari significant threshold maka **H0 ditolak** dan **H1 diterima** dimana rata-rata kasus aktif baru tahun 2021 tidak sama dengan 15 kasus."
   ]
  },
  {
   "cell_type": "markdown",
   "metadata": {},
   "source": [
    "#### Two Sample Independent (Two-Tailed)"
   ]
  },
  {
   "cell_type": "code",
   "execution_count": 39,
   "metadata": {},
   "outputs": [
    {
     "name": "stdout",
     "output_type": "stream",
     "text": [
      "2020 New Active Cases Mean: 11\n",
      "2021 New Active Cases Mean: 5\n"
     ]
    }
   ],
   "source": [
    "print(f\"2020 New Active Cases Mean: {round(jabar_2020['New Active Cases'].mean())}\")\n",
    "print(f\"2021 New Active Cases Mean: {round(jabar_2021['New Active Cases'].mean())}\")"
   ]
  },
  {
   "cell_type": "markdown",
   "metadata": {},
   "source": [
    "Dari rata-rata kasus baru antara 2020 dan 2021 di Jawa Barat, ingin mencari tahu apakah perbedaan rata-rata tersebut signifikan atau tidak?\n",
    "\n",
    "Jadi:\n",
    "- **H0: μ2020 = μ2021** (Perbedaan rata-rata kasus aktif baru tahun 2020 dan rata-rata kasus aktif baru tahun 2021 tidak signifikan)\n",
    "- **H1: μ2020 != μ2021** (Perbedaan rata-rata kasus aktif baru tahun 2020 tidak dan rata-rata kasus aktif baru tahun 2021 signifikan)"
   ]
  },
  {
   "cell_type": "code",
   "execution_count": 40,
   "metadata": {},
   "outputs": [
    {
     "name": "stdout",
     "output_type": "stream",
     "text": [
      "P-value: 0.19819372810987923\n",
      "T-stat: 1.2899103717648157\n"
     ]
    }
   ],
   "source": [
    "tstat, pval = stats.ttest_ind(jabar_2020['New Active Cases'], jabar_2021['New Active Cases'])\n",
    "print(f'P-value: {pval}')\n",
    "print(f'T-stat: {tstat}')"
   ]
  },
  {
   "cell_type": "code",
   "execution_count": 41,
   "metadata": {},
   "outputs": [
    {
     "name": "stdout",
     "output_type": "stream",
     "text": [
      "Menerima Null Hypothesis (H0), menolak Alternative Hypothesis (H1).\n"
     ]
    }
   ],
   "source": [
    "if pval <= 0.05:\n",
    "    print(\"Menolak Null Hypothesis (H0), menerima Alternative Hypothesis (H1).\")\n",
    "elif pval > 0.05:\n",
    "    print(\"Menerima Null Hypothesis (H0), menolak Alternative Hypothesis (H1).\")"
   ]
  },
  {
   "cell_type": "markdown",
   "metadata": {},
   "source": [
    "Dari hasil hypothesis testing ini, perbedaan antara rata-rata kasus aktif baru tahun 2020 dan 2021 tidak signifikan. Karena p-value yang didapat itu lebih besar dari significant threshold."
   ]
  }
 ],
 "metadata": {
  "interpreter": {
   "hash": "112f40161e87cdf99d798de2b86adf76c0b833717b9d65fa1f256b9c887e27bf"
  },
  "kernelspec": {
   "display_name": "Python 3.9.1 64-bit",
   "language": "python",
   "name": "python3"
  },
  "language_info": {
   "codemirror_mode": {
    "name": "ipython",
    "version": 3
   },
   "file_extension": ".py",
   "mimetype": "text/x-python",
   "name": "python",
   "nbconvert_exporter": "python",
   "pygments_lexer": "ipython3",
   "version": "3.9.1"
  },
  "orig_nbformat": 4
 },
 "nbformat": 4,
 "nbformat_minor": 2
}
